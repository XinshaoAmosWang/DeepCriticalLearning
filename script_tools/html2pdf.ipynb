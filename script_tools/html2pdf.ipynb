{
 "cells": [
  {
   "cell_type": "markdown",
   "source": [
    "## List all html files"
   ],
   "metadata": {
    "collapsed": false
   }
  },
  {
   "cell_type": "code",
   "execution_count": null,
   "outputs": [],
   "source": [
    "!pip install rootpath"
   ],
   "metadata": {
    "collapsed": false
   }
  },
  {
   "cell_type": "code",
   "execution_count": null,
   "outputs": [],
   "source": [
    "import rootpath\n",
    "import subprocess\n",
    "from os.path import dirname, join\n",
    "import glob\n",
    "\n",
    "project_dir = rootpath.detect()\n",
    "print(project_dir)\n",
    "\n",
    "html_list = glob.glob(join(project_dir, \"**\", \"*.html\"), recursive=True)\n",
    "print(html_list)\n",
    "print(len(html_list))"
   ],
   "metadata": {
    "collapsed": false
   }
  },
  {
   "cell_type": "code",
   "execution_count": null,
   "metadata": {
    "collapsed": true
   },
   "outputs": [],
   "source": [
    "for html in html_list:\n",
    "    subprocess.run(\n",
    "        [\n",
    "            'google-chrome',\n",
    "            \"--no-margins\",\n",
    "            \"--print-to-pdf-no-header\",\n",
    "            \"--headless\",\n",
    "            \"--disable-gpu\",\n",
    "            \"--print-to-pdf={}\".format(html.replace(\".html\", \".pdf\")),\n",
    "            html,\n",
    "        ]\n",
    "    )\n",
    "    subprocess.run(\n",
    "        [\n",
    "            'rm',\n",
    "            html,\n",
    "        ]\n",
    "    )\n"
   ]
  },
  {
   "cell_type": "code",
   "execution_count": null,
   "outputs": [],
   "source": [],
   "metadata": {
    "collapsed": false
   }
  }
 ],
 "metadata": {
  "kernelspec": {
   "display_name": "Python 3",
   "language": "python",
   "name": "python3"
  },
  "language_info": {
   "codemirror_mode": {
    "name": "ipython",
    "version": 2
   },
   "file_extension": ".py",
   "mimetype": "text/x-python",
   "name": "python",
   "nbconvert_exporter": "python",
   "pygments_lexer": "ipython2",
   "version": "2.7.6"
  }
 },
 "nbformat": 4,
 "nbformat_minor": 0
}
